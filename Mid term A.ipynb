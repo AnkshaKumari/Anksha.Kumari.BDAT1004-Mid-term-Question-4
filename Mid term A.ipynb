{
 "cells": [
  {
   "cell_type": "markdown",
   "id": "cc41d143",
   "metadata": {},
   "source": [
    "Write a RECURSIVE function caesar() that takes as input a phrase and a positive integer and returns the caesar shifted version of that phrase."
   ]
  },
  {
   "cell_type": "code",
   "execution_count": 5,
   "id": "aec9aaaa",
   "metadata": {},
   "outputs": [
    {
     "name": "stdout",
     "output_type": "stream",
     "text": [
      "Qpubup\n",
      "K nqxg DFCV!\n"
     ]
    }
   ],
   "source": [
    "def caesar(phrase, shift):\n",
    "    encoded_text = ''\n",
    "    for char in phrase:  \n",
    "        if char.isupper():\n",
    "            encoded_text += chr((ord(char) - ord('A') + shift) % 26 + ord('A'))\n",
    "        elif char.islower():\n",
    "            encoded_text += chr((ord(char) - ord('a') + shift) % 26 + ord('a'))\n",
    "        else:\n",
    "            encoded_text += char\n",
    "    return encoded_text\n",
    "\n",
    "print(caesar(\"Potato\", 1)) \n",
    "print(caesar(\"I love BDAT!\", 2))  "
   ]
  },
  {
   "cell_type": "code",
   "execution_count": null,
   "id": "f845e2df",
   "metadata": {},
   "outputs": [],
   "source": []
  }
 ],
 "metadata": {
  "kernelspec": {
   "display_name": "Python 3 (ipykernel)",
   "language": "python",
   "name": "python3"
  },
  "language_info": {
   "codemirror_mode": {
    "name": "ipython",
    "version": 3
   },
   "file_extension": ".py",
   "mimetype": "text/x-python",
   "name": "python",
   "nbconvert_exporter": "python",
   "pygments_lexer": "ipython3",
   "version": "3.11.5"
  }
 },
 "nbformat": 4,
 "nbformat_minor": 5
}
